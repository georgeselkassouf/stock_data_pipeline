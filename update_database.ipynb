{
 "cells": [
  {
   "cell_type": "code",
   "execution_count": 0,
   "metadata": {
    "application/vnd.databricks.v1+cell": {
     "cellMetadata": {
      "byteLimit": 2048000,
      "rowLimit": 10000
     },
     "inputWidgets": {},
     "nuid": "39fc3bf1-7600-4a80-a751-5a57eccc9883",
     "showTitle": false,
     "tableResultSettingsMap": {},
     "title": ""
    }
   },
   "outputs": [],
   "source": [
    "%run \"/Workspace/Users/georges.elkassouf@gmail.com/stock_data_pipeline/get_stock_data\""
   ]
  },
  {
   "cell_type": "code",
   "execution_count": 0,
   "metadata": {
    "application/vnd.databricks.v1+cell": {
     "cellMetadata": {
      "byteLimit": 2048000,
      "rowLimit": 10000
     },
     "inputWidgets": {},
     "nuid": "d8ef2555-610c-4c3c-9026-60134f01f78a",
     "showTitle": false,
     "tableResultSettingsMap": {},
     "title": ""
    }
   },
   "outputs": [],
   "source": [
    "import datetime\n",
    "from pyspark.sql import SparkSession\n",
    "spark = SparkSession.builder.getOrCreate()\n",
    "\n",
    "date=datetime.datetime.today().strftime('%Y-%m-%d')\n",
    "\n",
    "# data = get_stock_data(date=date)\n",
    "data = get_stock_data(date=\"2024-04-04\")\n",
    "\n",
    "df = spark.createDataFrame(data)\n",
    "\n",
    "# Check if the database exists using a query instead\n",
    "database_name = \"my_database\"\n",
    "database_exists = spark.sql(f\"SHOW DATABASES LIKE '{database_name}'\").count() > 0\n",
    "\n",
    "if not database_exists:\n",
    "    # Create the database if it doesn't exist\n",
    "    spark.sql(f\"CREATE DATABASE {database_name}\")\n",
    "\n",
    "# Writing data to the Delta table\n",
    "df.write.format(\"delta\").mode(\"append\").saveAsTable(f\"{database_name}.stock_data\")"
   ]
  }
 ],
 "metadata": {
  "application/vnd.databricks.v1+notebook": {
   "computePreferences": null,
   "dashboards": [],
   "environmentMetadata": {
    "base_environment": "",
    "environment_version": "2"
   },
   "language": "python",
   "notebookMetadata": {
    "pythonIndentUnit": 4
   },
   "notebookName": "update_database",
   "widgets": {}
  },
  "language_info": {
   "name": "python"
  }
 },
 "nbformat": 4,
 "nbformat_minor": 0
}
