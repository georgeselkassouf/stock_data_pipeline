{
  "nbformat": 4,
  "nbformat_minor": 0,
  "metadata": {
    "colab": {
      "provenance": []
    },
    "kernelspec": {
      "name": "python3",
      "display_name": "Python 3"
    },
    "language_info": {
      "name": "python"
    }
  },
  "cells": [
    {
      "cell_type": "markdown",
      "source": [
        "#Data Cleaning and Transformation"
      ],
      "metadata": {
        "id": "AJfVzivIHMXm"
      }
    },
    {
      "cell_type": "code",
      "execution_count": null,
      "metadata": {
        "id": "MaCDx17Wd90Z"
      },
      "outputs": [],
      "source": [
        "#query to union historical data with daily data + group by ticker and date\n",
        "CREATE TABLE `stock_data.stock_prices_combined` AS\n",
        "SELECT *\n",
        "FROM (\n",
        "    Select\n",
        "      ticker,\n",
        "      TIMESTAMP(date) AS date,\n",
        "      open_price,\n",
        "      close_price,\n",
        "      high_price,\n",
        "      low_price,\n",
        "      volume\n",
        "    FROM `stock_data.daily_data`\n",
        "\n",
        "    UNION ALL\n",
        "\n",
        "   SELECT\n",
        "      ticker,\n",
        "      TIMESTAMP(date) AS date,\n",
        "      open_price,\n",
        "      close_price,\n",
        "      high_price,\n",
        "      low_price,\n",
        "      volume\n",
        "    FROM `stock_data.historical_data`\n",
        ")\n",
        "Order BY\n",
        "  ticker,\n",
        "  date;"
      ]
    },
    {
      "cell_type": "code",
      "source": [
        "## Add Derived Columns (Price Change + Profit/Loss)\n",
        "CREATE VIEW `stock_data.v_stock_prices_transformed` AS\n",
        "SELECT\n",
        "  *,\n",
        "  close_price - open_price AS price_change,\n",
        "  CASE\n",
        "    WHEN close_price - open_price > 0 THEN 'Profit'\n",
        "    WHEN close_price - open_price < 0 THEN 'Loss'\n",
        "    ELSE 'No Change'\n",
        "  END AS profit_or_loss\n",
        "FROM `stock_data.stock_data_combined`;\n"
      ],
      "metadata": {
        "id": "fnb2qCJ5jjpb"
      },
      "execution_count": null,
      "outputs": []
    },
    {
      "cell_type": "code",
      "source": [
        "#Add missing data to ticker_details\n",
        "UPDATE stock_data.ticker_details\n",
        "SET\n",
        "  market_cap = CASE\n",
        "                 WHEN ticker = 'MSFT' THEN 2937000000000.0\n",
        "                 WHEN ticker = 'JNJ' THEN 395170000000.0\n",
        "               END,\n",
        "  description = CASE\n",
        "                  WHEN ticker = 'MSFT' THEN 'Microsoft is a global technology leader known for its Windows operating system, Microsoft Office suite, Azure cloud platform, and advancements in artificial intelligence. The company continues to expand its presence in cloud computing, AI, and enterprise services.'\n",
        "                  WHEN ticker = 'JNJ' THEN 'Founded in 1886, Johnson & Johnson is a multinational corporation specializing in pharmaceuticals, biotechnology, and medical technologies. The company has a global workforce and focuses on developing and producing prescription drugs and medical device technologies.'\n",
        "                END,\n",
        "  homepage_url = CASE\n",
        "                   WHEN ticker = 'MSFT' THEN 'https://www.microsoft.com'\n",
        "                   WHEN ticker = 'JNJ' THEN 'https://www.jnj.com'\n",
        "                 END,\n",
        "  total_employees = CASE\n",
        "                      WHEN ticker = 'MSFT' THEN 228000\n",
        "                      WHEN ticker = 'JNJ' THEN 138100\n",
        "                    END,\n",
        "  list_date = CASE\n",
        "                WHEN ticker = 'MSFT' THEN TIMESTAMP('1986-03-13 00:00:00')\n",
        "                WHEN ticker = 'JNJ' THEN TIMESTAMP('1944-01-01 00:00:00')\n",
        "              END\n",
        "WHERE ticker IN ('MSFT', 'JNJ');\n",
        "\n",
        "#add missing data to ticker_details_latest\n",
        "UPDATE stock_data.ticker_details_latest\n",
        "SET\n",
        "  market_cap = CASE\n",
        "                 WHEN ticker = 'ORCL' THEN 371140000000.0\n",
        "                 WHEN ticker = 'JNJ' THEN 365650000000.0\n",
        "               END,\n",
        "  description = CASE\n",
        "                  WHEN ticker = 'ORCL' THEN 'Oracle is a global leader in enterprise software, cloud infrastructure, and database technology. The company offers a comprehensive suite of applications and services, including Oracle Cloud Infrastructure (OCI), and has been expanding its capabilities in artificial intelligence and data security.'\n",
        "                  WHEN ticker = 'JNJ' THEN 'Founded in 1886, Johnson & Johnson is a multinational corporation specializing in pharmaceuticals, biotechnology, and medical technologies. The company has a global workforce and focuses on developing and producing prescription drugs and medical device technologies.'\n",
        "                END,\n",
        "  homepage_url = CASE\n",
        "                   WHEN ticker = 'ORCL' THEN 'https://www.oracle.com/'\n",
        "                   WHEN ticker = 'JNJ' THEN 'https://www.jnj.com'\n",
        "                 END,\n",
        "  total_employees = CASE\n",
        "                      WHEN ticker = 'ORCL' THEN 159000\n",
        "                      WHEN ticker = 'JNJ' THEN 138100\n",
        "                    END,\n",
        "  list_date = CASE\n",
        "                WHEN ticker = 'ORCL' THEN TIMESTAMP('1986-03-12 00:00:00')\n",
        "                WHEN ticker = 'JNJ' THEN TIMESTAMP('1944-01-01 00:00:00')\n",
        "              END\n",
        "WHERE ticker IN ('ORCL', 'JNJ');\n"
      ],
      "metadata": {
        "id": "a52qQlJepzXF"
      },
      "execution_count": null,
      "outputs": []
    },
    {
      "cell_type": "code",
      "source": [
        "#join ticker_details with ticker_details_latest + get difernece in market cap\n",
        "SELECT\n",
        "  feb.ticker,\n",
        "  feb.name,\n",
        "  feb.market_cap AS market_cap_feb,\n",
        "  apr.market_cap AS market_cap_apr,\n",
        "  (apr.market_cap - feb.market_cap) AS market_cap_diff,\n",
        "  ROUND((apr.market_cap - feb.market_cap) / feb.market_cap * 100, 2) AS percent_change\n",
        "FROM `project.dataset.ticker_details_feb` AS feb\n",
        "JOIN `project.dataset.ticker_details_apr` AS apr\n",
        "  ON feb.ticker = apr.ticker"
      ],
      "metadata": {
        "id": "GFDCNGyan-99"
      },
      "execution_count": null,
      "outputs": []
    },
    {
      "cell_type": "markdown",
      "source": [
        "#Business Questions"
      ],
      "metadata": {
        "id": "jsCIPa8dod0p"
      }
    },
    {
      "cell_type": "code",
      "source": [
        "#Which stocks have shown the highest average daily profit over the last month?\n",
        "SELECT\n",
        "  ticker,\n",
        "  avg(price_change) as average_price_change\n",
        "FROM `stock_data.stock_prices_transformed`\n",
        "WHERE date >= TIMESTAMP_SUB(CURRENT_TIMESTAMP(), INTERVAL 30 DAY)\n",
        "GROUP BY ticker\n",
        "ORDER BY average_price_change DESC\n",
        "LIMIT 10;"
      ],
      "metadata": {
        "id": "xCIYP6lgoNy3"
      },
      "execution_count": null,
      "outputs": []
    },
    {
      "cell_type": "code",
      "source": [
        "#What is the volatility (high - low) trend for each stock over time?\n",
        "SELECT\n",
        "  ticker,\n",
        "  DATE(date) AS trade_date,\n",
        "  AVG(high_price - low_price) AS avg_volatility\n",
        "FROM `stock_data.stock_prices_transformed`\n",
        "GROUP BY ticker, trade_date\n",
        "ORDER BY trade_date;"
      ],
      "metadata": {
        "id": "kc1UyK3Mh2Ul"
      },
      "execution_count": null,
      "outputs": []
    },
    {
      "cell_type": "code",
      "source": [
        "#Top 5 Stocks by Market Cap That Consistently Show Profits\n",
        "WITH profit_stats AS (\n",
        "  SELECT\n",
        "    s.ticker,\n",
        "    COUNTIF(profit_or_loss = 'Profit') AS profit_days,\n",
        "    COUNT(*) AS total_days,\n",
        "    t.market_cap\n",
        "  FROM `stock_data.v_stock_prices_transformed` s\n",
        "  JOIN `stock_data.ticker_details` t\n",
        "    ON s.ticker = t.ticker\n",
        "  GROUP BY s.ticker, t.market_cap\n",
        ")\n",
        "\n",
        "SELECT\n",
        "  ticker,\n",
        "  profit_days,\n",
        "  total_days,\n",
        "  ROUND(profit_days / total_days, 2) AS profit_ratio,\n",
        "  market_cap\n",
        "FROM profit_stats\n",
        "ORDER BY profit_ratio DESC, market_cap DESC\n",
        "LIMIT 5;"
      ],
      "metadata": {
        "id": "F-XSBDXZrawd"
      },
      "execution_count": null,
      "outputs": []
    },
    {
      "cell_type": "code",
      "source": [
        "#What are the most traded stocks in terms of volume over the month of March\n",
        "SELECT\n",
        "  ticker,\n",
        "  SUM(volume) AS total_volume\n",
        "FROM `stock_data.daily_data`\n",
        "WHERE date >= DATE_SUB(CURRENT_DATE(), INTERVAL 30 DAY)\n",
        "GROUP BY ticker\n",
        "ORDER BY total_volume DESC\n",
        "LIMIT 10;\n"
      ],
      "metadata": {
        "id": "BJ2Brimirt6O"
      },
      "execution_count": null,
      "outputs": []
    },
    {
      "cell_type": "code",
      "source": [
        "#Which companies had >5% daily drop in stock price in March?\n",
        "SELECT\n",
        "  ticker,\n",
        "  date,\n",
        "  open_price,\n",
        "  close_price,\n",
        "  ROUND((close_price - open_price) / open_price * 100, 2) AS percent_change\n",
        "FROM `stock_data.daily_data`\n",
        "WHERE date >= DATE_SUB(CURRENT_DATE(), INTERVAL 13 DAY)\n",
        "  AND (close_price - open_price) / open_price <= -0.05\n",
        "ORDER BY percent_change ASC;\n"
      ],
      "metadata": {
        "id": "W5pVAkTkvy9N"
      },
      "execution_count": null,
      "outputs": []
    },
    {
      "cell_type": "code",
      "source": [
        "#Detecting Bearish Signals (Price Down, Volume Up)\n",
        "WITH ranked_prices AS (\n",
        "  SELECT\n",
        "    ticker,\n",
        "    DATE(date) AS trade_date,\n",
        "    close_price,\n",
        "    volume,\n",
        "    ROW_NUMBER() OVER (PARTITION BY ticker ORDER BY DATE(date)) AS rn\n",
        "  FROM `stock_data.v_stock_prices_transformed`\n",
        "),\n",
        "\n",
        "joined_prices AS (\n",
        "  SELECT\n",
        "    curr.ticker,\n",
        "    curr.trade_date,\n",
        "    curr.close_price AS curr_close,\n",
        "    prev.close_price AS prev_close,\n",
        "    curr.volume AS curr_volume,\n",
        "    prev.volume AS prev_volume\n",
        "  FROM ranked_prices curr\n",
        "  JOIN ranked_prices prev\n",
        "    ON curr.ticker = prev.ticker\n",
        "    AND curr.rn = prev.rn + 1\n",
        ")\n",
        "\n",
        "SELECT\n",
        "  ticker,\n",
        "  trade_date,\n",
        "  prev_close,\n",
        "  curr_close,\n",
        "  prev_volume,\n",
        "  curr_volume,\n",
        "  ROUND((curr_close - prev_close), 2) AS price_change,\n",
        "  ROUND((curr_volume - prev_volume), 2) AS volume_change\n",
        "FROM joined_prices\n",
        "WHERE curr_close < prev_close  -- price dropped\n",
        "  AND curr_volume > prev_volume  -- volume increased\n",
        "ORDER BY trade_date DESC, ticker;\n"
      ],
      "metadata": {
        "id": "R8Cvm5qIGmpe"
      },
      "execution_count": null,
      "outputs": []
    },
    {
      "cell_type": "code",
      "source": [
        "#Which days had unusually high trading volume for any stock\n",
        "WITH daily_market_volume AS (\n",
        "  SELECT\n",
        "    DATE(date) AS trade_date,\n",
        "    SUM(volume) AS total_volume\n",
        "  FROM `stock_data.v_stock_prices_transformed`\n",
        "  GROUP BY trade_date\n",
        "),\n",
        "\n",
        "volume_threshold AS (\n",
        "  SELECT\n",
        "    PERCENTILE_CONT(total_volume, 0.95) OVER () AS volume_spike_threshold\n",
        "  FROM daily_market_volume\n",
        "  LIMIT 1\n",
        ")\n",
        "\n",
        "SELECT\n",
        "  d.trade_date,\n",
        "  d.total_volume\n",
        "FROM daily_market_volume d\n",
        "JOIN volume_threshold v\n",
        "  ON d.total_volume > v.volume_spike_threshold\n",
        "ORDER BY d.total_volume DESC;\n"
      ],
      "metadata": {
        "id": "znpB8LH3GoUN"
      },
      "execution_count": null,
      "outputs": []
    }
  ]
}