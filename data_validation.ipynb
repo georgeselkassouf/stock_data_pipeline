{
 "cells": [
  {
   "cell_type": "code",
   "execution_count": 0,
   "metadata": {
    "application/vnd.databricks.v1+cell": {
     "cellMetadata": {
      "byteLimit": 2048000,
      "rowLimit": 10000
     },
     "inputWidgets": {},
     "nuid": "4c8290dd-da4d-4a80-b027-c06f63953471",
     "showTitle": false,
     "tableResultSettingsMap": {},
     "title": ""
    }
   },
   "outputs": [],
   "source": [
    "from pydantic import BaseModel, Field, root_validator\n",
    "from datetime import datetime\n",
    "\n",
    "class StockData(BaseModel):\n",
    "    ticker: str = Field(alias=\"T\", \n",
    "                        description=\"Stock ticker symbol (e.g., AAPL, TSLA)\", \n",
    "                        default=\"\")\n",
    "    volume_weighted_avg_price: float = Field(alias=\"vw\", \n",
    "                                             description=\"Volume-weighted average price\", \n",
    "                                             default=0.0)\n",
    "    open_price: float = Field(alias=\"o\", \n",
    "                              description=\"Opening price of the stock\", \n",
    "                              default=0.0)\n",
    "    close_price: float = Field(alias=\"c\", \n",
    "                               description=\"Closing price of the stock\", \n",
    "                               default=0.0)\n",
    "    volume: int = Field(alias=\"v\", \n",
    "                        description=\"Total trading volume\", \n",
    "                        default=0)\n",
    "    high_price: float = Field(alias=\"h\", \n",
    "                              description=\"Highest price during the trading session\", \n",
    "                              default=0.0)\n",
    "    low_price: float = Field(alias=\"l\", \n",
    "                             description=\"Lowest price during the trading session\", \n",
    "                             default=0.0)\n",
    "    date: str = Field(alias=\"t\", \n",
    "                      description=\"Date of the stock data as timestamp\", \n",
    "                      default=\"\")\n",
    "    number_of_trades: int = Field(alias=\"n\", \n",
    "                                  description=\"Total number of trades executed\", \n",
    "                                  default=0)\n",
    "\n",
    "    data_ingestion_timestamp: str = datetime.now().strftime(\"%Y-%m-%d %H:%M:%S\")\n",
    "\n",
    "    @root_validator\n",
    "    def validate_data(cls, values):\n",
    "        return values\n"
   ]
  }
 ],
 "metadata": {
  "application/vnd.databricks.v1+notebook": {
   "computePreferences": null,
   "dashboards": [],
   "environmentMetadata": {
    "base_environment": "",
    "environment_version": "2"
   },
   "language": "python",
   "notebookMetadata": {
    "pythonIndentUnit": 4
   },
   "notebookName": "data_validation",
   "widgets": {}
  },
  "language_info": {
   "name": "python"
  }
 },
 "nbformat": 4,
 "nbformat_minor": 0
}
